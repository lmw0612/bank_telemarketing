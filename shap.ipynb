{
 "cells": [
  {
   "cell_type": "markdown",
   "id": "serious-insight",
   "metadata": {},
   "source": [
    "## SHAP Library Fix"
   ]
  },
  {
   "cell_type": "markdown",
   "id": "naked-moore",
   "metadata": {},
   "source": [
    "## 5.7 Feature Selection"
   ]
  },
  {
   "cell_type": "markdown",
   "id": "colored-xerox",
   "metadata": {},
   "source": [
    "To improve the model interpretability, it is important to investigate which features are most important for a model. The SHAP Values show the distribution of the impacts each features has on the model output. In this case, **SHAP value** from the Gradient Boosting is used to observe for the feature importance. After that only important features will be seleced for the hyperparameter tuning. "
   ]
  },
  {
   "cell_type": "markdown",
   "id": "liable-ownership",
   "metadata": {},
   "source": [
    "### 5.7.1 Random Forest"
   ]
  },
  {
   "cell_type": "code",
   "execution_count": 117,
   "id": "impaired-copper",
   "metadata": {},
   "outputs": [
    {
     "data": {
      "text/plain": [
       "ExtraTreesClassifier(random_state=42)"
      ]
     },
     "execution_count": 117,
     "metadata": {},
     "output_type": "execute_result"
    }
   ],
   "source": [
    "et = ExtraTreesClassifier(random_state=SEED)\n",
    "et.fit(X_train, y_train)"
   ]
  },
  {
   "cell_type": "markdown",
   "id": "canadian-tamil",
   "metadata": {},
   "source": [
    "### 5.7.2 SHAP Values Feature Importance"
   ]
  },
  {
   "cell_type": "code",
   "execution_count": 125,
   "id": "reduced-steel",
   "metadata": {},
   "outputs": [
    {
     "ename": "Exception",
     "evalue": "Model type not yet supported by TreeExplainer: <class 'sklearn.ensemble._gb.GradientBoostingClassifier'>",
     "output_type": "error",
     "traceback": [
      "\u001b[0;31m---------------------------------------------------------------------------\u001b[0m",
      "\u001b[0;31mException\u001b[0m                                 Traceback (most recent call last)",
      "\u001b[0;32m<timed exec>\u001b[0m in \u001b[0;36m<module>\u001b[0;34m\u001b[0m\n",
      "\u001b[0;32m~/anaconda3/envs/python3/lib/python3.6/site-packages/shap/explainers/tree.py\u001b[0m in \u001b[0;36m__init__\u001b[0;34m(self, model, **kwargs)\u001b[0m\n",
      "\u001b[0;31mException\u001b[0m: Model type not yet supported by TreeExplainer: <class 'sklearn.ensemble._gb.GradientBoostingClassifier'>"
     ]
    }
   ],
   "source": [
    "%%time\n",
    "import shap\n",
    "# collect explainer and the shap_values\n",
    "explainer = shap.TreeExplainer(et)\n",
    "shap_values = explainer.shap_values(X_train)"
   ]
  },
  {
   "cell_type": "markdown",
   "id": "leading-manor",
   "metadata": {},
   "source": [
    "### 5.9.3 Force Plot"
   ]
  },
  {
   "cell_type": "code",
   "execution_count": null,
   "id": "undefined-confidence",
   "metadata": {},
   "outputs": [],
   "source": [
    "# load JS visualization\n",
    "shap.initjs()\n",
    "\n",
    "# force plot - only one observation is possible. So I have taken the 5th observation\n",
    "i = 5\n",
    "shap.force_plot(explain.expected_value, shap_values[i], features=X_train_res_.iloc[i], feature_names=X_train_res.columns)"
   ]
  },
  {
   "cell_type": "markdown",
   "id": "experimental-parallel",
   "metadata": {},
   "source": [
    "Force Plot Explaination\n",
    "\n",
    "**Red**: When the features push the prediction higher <br>\n",
    "**Blue**: When the features push the prediction lower\n",
    "\n",
    "**Red**: \n"
   ]
  },
  {
   "cell_type": "markdown",
   "id": "international-studio",
   "metadata": {},
   "source": [
    "### 5.9.4 Summary Plot"
   ]
  },
  {
   "cell_type": "code",
   "execution_count": null,
   "id": "upper-batman",
   "metadata": {},
   "outputs": [],
   "source": [
    "# Summary plot\n",
    "shap.summary_plot(shap_values, features=X_train_res, feature_names=X_train_res.columns)"
   ]
  },
  {
   "cell_type": "markdown",
   "id": "round-belief",
   "metadata": {},
   "source": [
    "### 5.9.5 Summary Bar Plot"
   ]
  },
  {
   "cell_type": "code",
   "execution_count": null,
   "id": "numerous-overview",
   "metadata": {},
   "outputs": [],
   "source": [
    "# bar plot\n",
    "shap.summary_plot(shap_values, features=X_train_res, feature_names=X_train_res.columns, plot_type='bar')"
   ]
  },
  {
   "cell_type": "markdown",
   "id": "exclusive-appointment",
   "metadata": {},
   "source": [
    "### 5.9.6 ML- Selected Features"
   ]
  },
  {
   "cell_type": "code",
   "execution_count": null,
   "id": "earned-problem",
   "metadata": {},
   "outputs": [],
   "source": []
  }
 ],
 "metadata": {
  "kernelspec": {
   "display_name": "conda_python3",
   "language": "python",
   "name": "conda_python3"
  },
  "language_info": {
   "codemirror_mode": {
    "name": "ipython",
    "version": 3
   },
   "file_extension": ".py",
   "mimetype": "text/x-python",
   "name": "python",
   "nbconvert_exporter": "python",
   "pygments_lexer": "ipython3",
   "version": "3.6.13"
  }
 },
 "nbformat": 4,
 "nbformat_minor": 5
}
